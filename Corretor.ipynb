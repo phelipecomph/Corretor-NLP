{
  "nbformat": 4,
  "nbformat_minor": 0,
  "metadata": {
    "colab": {
      "name": "Corretor.ipynb",
      "provenance": [],
      "collapsed_sections": []
    },
    "kernelspec": {
      "name": "python3",
      "display_name": "Python 3"
    }
  },
  "cells": [
    {
      "cell_type": "code",
      "metadata": {
        "id": "tGf2fc3FJXyP",
        "colab_type": "code",
        "colab": {
          "base_uri": "https://localhost:8080/",
          "height": 120
        },
        "outputId": "100e7450-38ac-497b-8e6d-cf5a9ac7829d"
      },
      "source": [
        "with open('artigos.txt', mode='r') as f:\n",
        "  artigos = f.read()\n",
        "print(artigos[:50])"
      ],
      "execution_count": 27,
      "outputs": [
        {
          "output_type": "stream",
          "text": [
            "\n",
            "\n",
            "\n",
            "imagem \n",
            "\n",
            "Temos a seguinte classe que representa\n"
          ],
          "name": "stdout"
        }
      ]
    },
    {
      "cell_type": "markdown",
      "metadata": {
        "id": "Rl9ZyUL3gJas",
        "colab_type": "text"
      },
      "source": [
        "# Tokenize"
      ]
    },
    {
      "cell_type": "markdown",
      "metadata": {
        "id": "qXusQBJegPTi",
        "colab_type": "text"
      },
      "source": [
        "## Exemplo"
      ]
    },
    {
      "cell_type": "code",
      "metadata": {
        "id": "YAyqcp4FbYw0",
        "colab_type": "code",
        "colab": {}
      },
      "source": [
        "texto_exemplo = \"Oi! Tudo bem?\"\n",
        "tokens_exemplo = texto_exemplo.split()"
      ],
      "execution_count": 28,
      "outputs": []
    },
    {
      "cell_type": "code",
      "metadata": {
        "id": "bSlj6ugbdr37",
        "colab_type": "code",
        "colab": {
          "base_uri": "https://localhost:8080/",
          "height": 51
        },
        "outputId": "7999652e-728c-4363-ea4c-5c746ede311d"
      },
      "source": [
        "print(len(tokens_exemplo))\n",
        "print(tokens_exemplo)"
      ],
      "execution_count": 29,
      "outputs": [
        {
          "output_type": "stream",
          "text": [
            "3\n",
            "['Oi!', 'Tudo', 'bem?']\n"
          ],
          "name": "stdout"
        }
      ]
    },
    {
      "cell_type": "markdown",
      "metadata": {
        "id": "iygASirSgp4D",
        "colab_type": "text"
      },
      "source": [
        "Importando Natural Language Toolkit"
      ]
    },
    {
      "cell_type": "code",
      "metadata": {
        "id": "koXqtZIJeUns",
        "colab_type": "code",
        "colab": {
          "base_uri": "https://localhost:8080/",
          "height": 68
        },
        "outputId": "2c94e61f-d4a9-4a75-b167-d867efc18032"
      },
      "source": [
        "import nltk\n",
        "nltk.download('punkt')"
      ],
      "execution_count": 30,
      "outputs": [
        {
          "output_type": "stream",
          "text": [
            "[nltk_data] Downloading package punkt to /root/nltk_data...\n",
            "[nltk_data]   Package punkt is already up-to-date!\n"
          ],
          "name": "stdout"
        },
        {
          "output_type": "execute_result",
          "data": {
            "text/plain": [
              "True"
            ]
          },
          "metadata": {
            "tags": []
          },
          "execution_count": 30
        }
      ]
    },
    {
      "cell_type": "code",
      "metadata": {
        "id": "wmkeSFG7du1g",
        "colab_type": "code",
        "colab": {
          "base_uri": "https://localhost:8080/",
          "height": 51
        },
        "outputId": "49b5c8c9-8723-401d-b39e-81ec929209c0"
      },
      "source": [
        "palavras_separdas = nltk.tokenize.word_tokenize(texto_exemplo)\n",
        "print(palavras_separdas)\n",
        "print(len(palavras_separdas))"
      ],
      "execution_count": 31,
      "outputs": [
        {
          "output_type": "stream",
          "text": [
            "['Oi', '!', 'Tudo', 'bem', '?']\n",
            "5\n"
          ],
          "name": "stdout"
        }
      ]
    },
    {
      "cell_type": "code",
      "metadata": {
        "id": "BWHNzKwUeiZu",
        "colab_type": "code",
        "colab": {}
      },
      "source": [
        "def separa_palavras(lista_tokens):\n",
        "  lista_palavras = []\n",
        "  for token in lista_tokens:\n",
        "    if token.isalpha(): lista_palavras.append(token)\n",
        "  return lista_palavras"
      ],
      "execution_count": 32,
      "outputs": []
    },
    {
      "cell_type": "code",
      "metadata": {
        "id": "SaAwXeGdfNya",
        "colab_type": "code",
        "colab": {
          "base_uri": "https://localhost:8080/",
          "height": 51
        },
        "outputId": "1f903729-fbef-46bd-ad65-d6e6c8928198"
      },
      "source": [
        "palavras_separdas = separa_palavras(palavras_separdas)\n",
        "print(palavras_separdas)\n",
        "print(len(palavras_separdas))"
      ],
      "execution_count": 33,
      "outputs": [
        {
          "output_type": "stream",
          "text": [
            "['Oi', 'Tudo', 'bem']\n",
            "3\n"
          ],
          "name": "stdout"
        }
      ]
    },
    {
      "cell_type": "markdown",
      "metadata": {
        "id": "aSyBJmwTgA6q",
        "colab_type": "text"
      },
      "source": [
        "## Tokenzine Corpus"
      ]
    },
    {
      "cell_type": "code",
      "metadata": {
        "id": "2IB9pG0jfVM7",
        "colab_type": "code",
        "colab": {}
      },
      "source": [
        "tokens = nltk.tokenize.word_tokenize(artigos)\n",
        "tokens = separa_palavras(tokens)"
      ],
      "execution_count": 34,
      "outputs": []
    },
    {
      "cell_type": "code",
      "metadata": {
        "id": "P2P_xeMAf8wR",
        "colab_type": "code",
        "colab": {
          "base_uri": "https://localhost:8080/",
          "height": 51
        },
        "outputId": "b12fc4ad-b331-4a61-fb1d-9ef09bb1e89a"
      },
      "source": [
        "print(len(tokens))\n",
        "print(tokens[:5])"
      ],
      "execution_count": 35,
      "outputs": [
        {
          "output_type": "stream",
          "text": [
            "393914\n",
            "['imagem', 'Temos', 'a', 'seguinte', 'classe']\n"
          ],
          "name": "stdout"
        }
      ]
    },
    {
      "cell_type": "code",
      "metadata": {
        "id": "2t2d6YKZf-yK",
        "colab_type": "code",
        "colab": {}
      },
      "source": [
        "def normalize_tokens(tokens):\n",
        "  tokens_normalized = []\n",
        "  for token in tokens:\n",
        "    tokens_normalized.append(token.lower())\n",
        "  return tokens_normalized"
      ],
      "execution_count": 36,
      "outputs": []
    },
    {
      "cell_type": "code",
      "metadata": {
        "id": "1mH_gfNkiZr4",
        "colab_type": "code",
        "colab": {
          "base_uri": "https://localhost:8080/",
          "height": 34
        },
        "outputId": "d69d62c4-569e-4dee-9514-2704b2aad670"
      },
      "source": [
        "tokens = normalize_tokens(tokens)\n",
        "print(tokens[:5])"
      ],
      "execution_count": 37,
      "outputs": [
        {
          "output_type": "stream",
          "text": [
            "['imagem', 'temos', 'a', 'seguinte', 'classe']\n"
          ],
          "name": "stdout"
        }
      ]
    },
    {
      "cell_type": "code",
      "metadata": {
        "id": "wYWnUZ0wie1R",
        "colab_type": "code",
        "colab": {
          "base_uri": "https://localhost:8080/",
          "height": 34
        },
        "outputId": "bf72cd52-883e-4a5b-f8aa-52435b8a723a"
      },
      "source": [
        "set([1,2,2,3,4,5,5,5,5,5,5,5,6])"
      ],
      "execution_count": 38,
      "outputs": [
        {
          "output_type": "execute_result",
          "data": {
            "text/plain": [
              "{1, 2, 3, 4, 5, 6}"
            ]
          },
          "metadata": {
            "tags": []
          },
          "execution_count": 38
        }
      ]
    },
    {
      "cell_type": "code",
      "metadata": {
        "id": "BF-ICLXfi2H5",
        "colab_type": "code",
        "colab": {
          "base_uri": "https://localhost:8080/",
          "height": 51
        },
        "outputId": "ca93169f-9995-4ec4-8d77-6114db214d06"
      },
      "source": [
        "print(\"Tokens possui {} palavras\".format(len(tokens)))\n",
        "print(\"Tokens possui {} tipos de palavras\".format(len(set(tokens))))"
      ],
      "execution_count": 39,
      "outputs": [
        {
          "output_type": "stream",
          "text": [
            "Tokens possui 393914 palavras\n",
            "Tokens possui 17652 tipos de palavras\n"
          ],
          "name": "stdout"
        }
      ]
    },
    {
      "cell_type": "markdown",
      "metadata": {
        "id": "WTR3T6JJi6MF",
        "colab_type": "text"
      },
      "source": [
        "# Inserção de Letras"
      ]
    },
    {
      "cell_type": "code",
      "metadata": {
        "id": "ARRVSX9IqS9T",
        "colab_type": "code",
        "colab": {
          "base_uri": "https://localhost:8080/",
          "height": 34
        },
        "outputId": "2b13edf6-266c-4534-9108-801965ece58c"
      },
      "source": [
        "# Variavel global que contem a frequencia de todas as palavras do Corpus\n",
        "wordsFreq = nltk.FreqDist(tokens)\n",
        "print(wordsFreq.most_common(3))\n",
        "\n",
        "# Calcula a probabilidade da palavra no nosso Corpus\n",
        "def probabilidade(palavra):\n",
        "  total_palavras = len(tokens)\n",
        "  return wordsFreq[palavra]/total_palavras"
      ],
      "execution_count": 40,
      "outputs": [
        {
          "output_type": "stream",
          "text": [
            "[('de', 15494), ('o', 13966), ('que', 12225)]\n"
          ],
          "name": "stdout"
        }
      ]
    },
    {
      "cell_type": "code",
      "metadata": {
        "id": "LCHoVL_Ii_7f",
        "colab_type": "code",
        "colab": {}
      },
      "source": [
        "# Função principal que retorna a palavra mais provavel entre as palavras geradas\n",
        "def corretor_insere(palavra):\n",
        "  palavras_geradas = gerador_palavras_insere(palavra)\n",
        "  palavra_correta = max(palavras_geradas, key=probabilidade)\n",
        "  return palavra_correta\n",
        "\n",
        "# Gera cada uma das possiveis palavras com uma inserção\n",
        "def gerador_palavras_insere(palavra):\n",
        "  fatias = []\n",
        "  for p in range(len(palavra)+1):\n",
        "    fatias.append((palavra[:p],palavra[p:])) # Cria as fatias\n",
        "  palavras_geradas = insere_letras(fatias)\n",
        "  return palavras_geradas\n",
        "\n",
        "# Insere cada uma das letras do alfabeto entres as fatias \n",
        "def insere_letras(fatias):\n",
        "   alfabeto = \"abcdefghijklmnopqrstuvwxyzáâàãéêèẽíîìĩóôõòúûùũç\"\n",
        "   novas_palavras = []\n",
        "   for inicio_palavra,final_palavra in fatias:\n",
        "    for letra in alfabeto:\n",
        "      novas_palavras.append(inicio_palavra + letra + final_palavra)\n",
        "   return novas_palavras"
      ],
      "execution_count": 41,
      "outputs": []
    },
    {
      "cell_type": "code",
      "metadata": {
        "id": "5YVKbs_Rkwy8",
        "colab_type": "code",
        "colab": {
          "base_uri": "https://localhost:8080/",
          "height": 35
        },
        "outputId": "16d92dfd-2e34-48d2-ce16-84dc507684e7"
      },
      "source": [
        "palavra_exemplo = 'lgica'\n",
        "corretor_insere(palavra_exemplo)"
      ],
      "execution_count": 42,
      "outputs": [
        {
          "output_type": "execute_result",
          "data": {
            "application/vnd.google.colaboratory.intrinsic+json": {
              "type": "string"
            },
            "text/plain": [
              "'lógica'"
            ]
          },
          "metadata": {
            "tags": []
          },
          "execution_count": 42
        }
      ]
    },
    {
      "cell_type": "markdown",
      "metadata": {
        "id": "F_TRlBG3w9uX",
        "colab_type": "text"
      },
      "source": [
        "# Remoção de Letras"
      ]
    },
    {
      "cell_type": "code",
      "metadata": {
        "id": "4BbkExuAxGJP",
        "colab_type": "code",
        "colab": {}
      },
      "source": [
        "# Função principal que retorna a palavra mais provavel entre as palavras geradas\n",
        "def corretor_remove(palavra):\n",
        "  palavras_geradas = gerador_palavras_remove(palavra)\n",
        "  palavra_correta = max(palavras_geradas, key=probabilidade)\n",
        "  return palavra_correta\n",
        "\n",
        "# Gera cada uma das possiveis palavras com uma remoção\n",
        "def gerador_palavras_remove(palavra):\n",
        "  fatias = []\n",
        "  for p in range(len(palavra)):\n",
        "    fatias.append((palavra[:p],palavra[p:])) # Cria as fatias\n",
        "  palavras_geradas = remove_letras(fatias)\n",
        "  return palavras_geradas\n",
        "\n",
        "# remove uma das letra entres as fatias \n",
        "def remove_letras(fatias):\n",
        "  novas_palavras = []\n",
        "  for inicio_palavra, final_palavra in fatias:\n",
        "    novas_palavras.append(inicio_palavra + final_palavra[1:])\n",
        "  return novas_palavras"
      ],
      "execution_count": 43,
      "outputs": []
    },
    {
      "cell_type": "code",
      "metadata": {
        "id": "GNrDQ8vwzwFa",
        "colab_type": "code",
        "colab": {
          "base_uri": "https://localhost:8080/",
          "height": 35
        },
        "outputId": "0242b163-0b72-4fd4-c38d-ca3e21fce850"
      },
      "source": [
        "palavra_exemplo = 'lóigica'\n",
        "corretor_remove(palavra_exemplo)"
      ],
      "execution_count": 44,
      "outputs": [
        {
          "output_type": "execute_result",
          "data": {
            "application/vnd.google.colaboratory.intrinsic+json": {
              "type": "string"
            },
            "text/plain": [
              "'lógica'"
            ]
          },
          "metadata": {
            "tags": []
          },
          "execution_count": 44
        }
      ]
    },
    {
      "cell_type": "markdown",
      "metadata": {
        "id": "sQTXPxpW2EzE",
        "colab_type": "text"
      },
      "source": [
        "# Trocar Letra"
      ]
    },
    {
      "cell_type": "code",
      "metadata": {
        "id": "9TT9uvIy2DrS",
        "colab_type": "code",
        "colab": {}
      },
      "source": [
        "# Função principal que retorna a palavra mais provavel entre as palavras geradas\n",
        "def corretor_troca(palavra):\n",
        "  palavras_geradas = gerador_palavras_troca(palavra)\n",
        "  palavra_correta = max(palavras_geradas, key=probabilidade)\n",
        "  return palavra_correta\n",
        "\n",
        "# Gera cada uma das possiveis palavras com uma troca\n",
        "def gerador_palavras_troca(palavra):\n",
        "  fatias = []\n",
        "  for p in range(len(palavra)):\n",
        "    fatias.append((palavra[:p],palavra[p:])) # Cria as fatias\n",
        "  palavras_geradas = troca_letras(fatias)\n",
        "  return palavras_geradas\n",
        "\n",
        "# Troca cada uma das letra entres as fatias por cada uma das letras do alfabeto\n",
        "def troca_letras(fatias):\n",
        "  alfabeto = \"abcdefghijklmnopqrstuvwxyzáâàãéêèẽíîìĩóôõòúûùũç\"\n",
        "  novas_palavras = []\n",
        "  for inicio_palavra, final_palavra in fatias:\n",
        "    for letra in alfabeto:\n",
        "      novas_palavras.append(inicio_palavra + letra + final_palavra[1:])\n",
        "  return novas_palavras"
      ],
      "execution_count": 45,
      "outputs": []
    },
    {
      "cell_type": "code",
      "metadata": {
        "id": "ao0pTJY62mZd",
        "colab_type": "code",
        "colab": {
          "base_uri": "https://localhost:8080/",
          "height": 35
        },
        "outputId": "ac1a82b3-f346-49c2-bcd2-207f2fcaa0fd"
      },
      "source": [
        "palavra_exemplo = 'lígica'\n",
        "corretor_troca(palavra_exemplo)"
      ],
      "execution_count": 46,
      "outputs": [
        {
          "output_type": "execute_result",
          "data": {
            "application/vnd.google.colaboratory.intrinsic+json": {
              "type": "string"
            },
            "text/plain": [
              "'lógica'"
            ]
          },
          "metadata": {
            "tags": []
          },
          "execution_count": 46
        }
      ]
    },
    {
      "cell_type": "markdown",
      "metadata": {
        "id": "_rWRL5tsy_TC",
        "colab_type": "text"
      },
      "source": [
        "# Corretor Completo"
      ]
    },
    {
      "cell_type": "code",
      "metadata": {
        "id": "Vz7JME6jzB3N",
        "colab_type": "code",
        "colab": {}
      },
      "source": [
        "def corretor_completo(palavra):\n",
        "  palavras_geradas = gerador_palavras_insere(palavra)\n",
        "  palavras_geradas += gerador_palavras_remove(palavra)\n",
        "  palavras_geradas += gerador_palavras_troca(palavra)\n",
        "  palavra_correta = max(palavras_geradas, key=probabilidade)\n",
        "  return palavra_correta"
      ],
      "execution_count": 47,
      "outputs": []
    },
    {
      "cell_type": "code",
      "metadata": {
        "id": "QsjjRvpK00W2",
        "colab_type": "code",
        "colab": {
          "base_uri": "https://localhost:8080/",
          "height": 35
        },
        "outputId": "66e1b68b-8f58-4ac5-dd7c-6423e9d01947"
      },
      "source": [
        "palavra_exemplo = 'lóigica'\n",
        "corretor_completo(palavra_exemplo)"
      ],
      "execution_count": 48,
      "outputs": [
        {
          "output_type": "execute_result",
          "data": {
            "application/vnd.google.colaboratory.intrinsic+json": {
              "type": "string"
            },
            "text/plain": [
              "'lógica'"
            ]
          },
          "metadata": {
            "tags": []
          },
          "execution_count": 48
        }
      ]
    },
    {
      "cell_type": "markdown",
      "metadata": {
        "id": "ZEnLS-sxrqBR",
        "colab_type": "text"
      },
      "source": [
        "# Avaliação do Corretor"
      ]
    },
    {
      "cell_type": "code",
      "metadata": {
        "id": "Iyr9TLQ9qDBW",
        "colab_type": "code",
        "colab": {
          "base_uri": "https://localhost:8080/",
          "height": 54
        },
        "outputId": "2fe646a9-0f98-4d32-faf1-54130a54cae3"
      },
      "source": [
        "def cria_dados_teste(nome_arquivo):\n",
        "  lista_palavras_teste = []\n",
        "  f = open(nome_arquivo, 'r')\n",
        "  for linha in f:\n",
        "    correta, errada = linha.split(\" \")\n",
        "    lista_palavras_teste.append((correta, errada[:-1])) #-1 remove /n\n",
        "  f.close()\n",
        "  return lista_palavras_teste\n",
        "\n",
        "palavras_avaliacao = cria_dados_teste(\"palavras.txt\")\n",
        "print(palavras_avaliacao)"
      ],
      "execution_count": 49,
      "outputs": [
        {
          "output_type": "stream",
          "text": [
            "[('podemos', 'pyodemos'), ('esse', 'esje'), ('já', 'jrá'), ('nosso', 'nossov'), ('são', 'sãêo'), ('dos', 'dosa'), ('muito', 'muifo'), ('imagem', 'iômagem'), ('sua', 'ósua'), ('também', 'tambéùm'), ('ele', 'eme'), ('fazer', 'èazer'), ('temos', 'temfs'), ('essa', 'eàssa'), ('quando', 'quaôdo'), ('vamos', 'vamvos'), ('sobre', 'hsobre'), ('java', 'sjava'), ('das', 'daõs'), ('agora', 'agorah'), ('está', 'eòtá'), ('cada', 'céda'), ('mesmo', 'zmesmo'), ('nos', 'noâ'), ('forma', 'fobma'), ('seja', 'sejéa'), ('então', 'enêão'), ('criar', 'èriar'), ('código', 'cóeigo'), ('caso', 'casío'), ('exemplo', 'áexemplo'), ('tem', 'tĩem'), ('usuário', 'usuárôio'), ('dados', 'dfados'), ('python', 'pgthon'), ('nossa', 'nossah'), ('além', 'alémè'), ('assim', 'asõim'), ('ter', 'teb'), ('até', 'atĩ'), ('bem', 'âem'), ('design', 'desigen'), ('trabalho', 'trabalàho'), ('foi', 'foo'), ('apenas', 'apenaũ'), ('empresa', 'empresà'), ('valor', 'valíor'), ('será', 'serr'), ('entre', 'entke'), ('método', 'méqodo'), ('precisamos', 'precisamops'), ('ainda', 'ainàa'), ('vai', 'van'), ('conteúdo', 'ûconteúdo'), ('seus', 'çeus'), ('eu', 'eû'), ('todos', 'todtos'), ('tempo', 'temeo'), ('sempre', 'semre'), ('qual', 'quakl'), ('ela', 'elaá'), ('só', 'síó'), ('utilizar', 'utiqizar'), ('projeto', 'prhojeto'), ('site', 'siàe'), ('sem', 'seém'), ('pelo', 'peln'), ('alura', 'aléra'), ('dia', 'tdia'), ('tudo', 'tuúo'), ('podemos', 'kpodemos'), ('esse', 'eẽsse'), ('já', 'jé'), ('nosso', 'nçosso'), ('são', 'sãô'), ('dos', 'odos'), ('muito', 'tuito'), ('imagem', 'imõgem'), ('sua', 'siua'), ('também', 'tamvbém'), ('ele', 'elpe'), ('fazer', 'façzer'), ('temos', 'teos'), ('essa', 'eũsa'), ('quando', 'quaìdo'), ('vamos', 'vjmos'), ('sobre', 'sxobre'), ('java', 'jkva'), ('das', 'dms'), ('agora', 'agtora'), ('está', 'esútá'), ('cada', 'cava'), ('mesmo', 'medmo'), ('nos', 'ános'), ('forma', 'forûa'), ('seja', 'smeja'), ('então', 'enjtão'), ('criar', 'criôar'), ('código', 'cóàigo'), ('caso', 'èaso'), ('exemplo', 'exbemplo'), ('tem', 'túem'), ('usuário', 'usuárin'), ('dados', 'daáos'), ('python', 'pythoçn'), ('nossa', 'nossk'), ('além', 'âlém'), ('assim', 'aóssim'), ('ter', 'tãer'), ('até', 'vté'), ('bem', 'búm'), ('design', 'íesign'), ('trabalho', 'trabèalho'), ('foi', 'kfoi'), ('apenas', 'aapenas'), ('empresa', 'pmpresa'), ('valor', 'valoqr'), ('será', 'sçerá'), ('entre', 'entró'), ('método', 'nétodo'), ('precisamos', 'prefcisamos'), ('ainda', 'sainda'), ('vai', 'uai'), ('conteúdo', 'cĩonteúdo'), ('seus', 'sâus'), ('eu', 'ìeu'), ('todos', 'todás'), ('tempo', 'utempo'), ('sempre', 'sempce'), ('qual', 'fual'), ('ela', 'elal'), ('só', 'skó'), ('utilizar', 'utilĩzar'), ('projeto', 'proójeto'), ('site', 'isite'), ('sem', 'secm'), ('pelo', 'pẽlo'), ('alura', 'aluéa'), ('dia', 'dil'), ('tudo', 'tudy'), ('ela', 'qelay'), ('só', 'sód'), ('utilizar', 'dtilizacr'), ('projeto', 'bprojõto'), ('site', 'ysiteo'), ('sem', 'sõêm'), ('pelo', 'peàli'), ('alura', 'asuraó'), ('dia', 'deiìa'), ('tudo', 'tuĩdoì'), ('ela', 'eúaa'), ('só', 'ró'), ('utilizar', 'utilizẽaçr'), ('projeto', 'prêjetó'), ('site', 'sqiqte'), ('sem', 'sũexm'), ('pelo', 'pçlxo'), ('alura', 'uluraa'), ('dia', 'dĩaz'), ('tudo', 'kzudo'), ('corretor', 'correptor'), ('tática', 'trtica'), ('empoderamento', 'ewpoderamento'), ('linux', 'lifux'), ('cachorro', 'cachoçro'), ('gato', 'îgato'), ('cavalo', 'cakvalo'), ('relógio', 'relógiuo'), ('canela', 'canelac'), ('tênis', 'tênisy'), ('ansiosa', 'anciosa'), ('ansiosa', 'ancciosa'), ('ansiosa', 'ansioa'), ('empoderamento', 'empoderamento'), ('asterisco', 'asterístico'), ('gratuito', 'gratuíto'), ('entretido', 'entertido'), ('ritmo', 'ritimo'), ('idiota', 'indiota'), ('tomara', 'tomare'), ('seja', 'seje'), ('prevalecer', 'provalecer'), ('esteja', 'esteje'), ('mendigo', 'mindigo'), ('cérebro', 'célebro'), ('perturbar', 'pertubar')]\n"
          ],
          "name": "stdout"
        }
      ]
    },
    {
      "cell_type": "code",
      "metadata": {
        "id": "L986YtEush1R",
        "colab_type": "code",
        "colab": {}
      },
      "source": [
        "def avaliar_todos(testes):\n",
        "  corretores = [corretor_insere,\n",
        "                corretor_remove,\n",
        "                corretor_troca,\n",
        "                corretor_completo]\n",
        "  desconhecida = 0\n",
        "  numero_palavras = len(testes)\n",
        "\n",
        "  print(\"Quantidade de Palavras testadas: {}\".format(len(testes)))\n",
        "  \n",
        "  for pCorreta, pErrada in testes:\n",
        "    if pCorreta not in set(tokens): desconhecida += 1\n",
        "  taxa_desconhecidas = desconhecida/numero_palavras\n",
        "  print(\"Quantidade de Palavras desconhecidas: {}%\".format(round(taxa_desconhecidas*100,2)))\n",
        "\n",
        "  for corretor in corretores:\n",
        "    avaliador(testes, corretor)\n",
        "\n",
        "def avaliador(testes, corretor):\n",
        "  numero_palavras = len(testes)\n",
        "  acerto = 0\n",
        "  for pCorreta, pErrada in testes: \n",
        "    palavra_corrigida = corretor(pErrada) \n",
        "    if palavra_corrigida == pCorreta: acerto += 1\n",
        "  taxa_acerto = acerto/numero_palavras\n",
        "  print()\n",
        "  print(\"Corretor: {}\".format(corretor.__name__))\n",
        "  print(\"Taxa de Acertos: {}%\".format(round(taxa_acerto*100,2)))\n",
        "  print(\"--------------------------------------\")"
      ],
      "execution_count": 50,
      "outputs": []
    },
    {
      "cell_type": "code",
      "metadata": {
        "id": "u77X6OjBuQ25",
        "colab_type": "code",
        "colab": {
          "base_uri": "https://localhost:8080/",
          "height": 326
        },
        "outputId": "75aa6e24-798e-48de-ee3c-3002ce8c2038"
      },
      "source": [
        "avaliar_todos(palavras_avaliacao)"
      ],
      "execution_count": 51,
      "outputs": [
        {
          "output_type": "stream",
          "text": [
            "Quantidade de Palavras testadas: 186\n",
            "Quantidade de Palavras desconhecidas: 6.99%\n",
            "\n",
            "Corretor: corretor_insere\n",
            "Taxa de Acertos: 1.08%\n",
            "--------------------------------------\n",
            "\n",
            "Corretor: corretor_remove\n",
            "Taxa de Acertos: 40.32%\n",
            "--------------------------------------\n",
            "\n",
            "Corretor: corretor_troca\n",
            "Taxa de Acertos: 38.17%\n",
            "--------------------------------------\n",
            "\n",
            "Corretor: corretor_completo\n",
            "Taxa de Acertos: 76.34%\n",
            "--------------------------------------\n"
          ],
          "name": "stdout"
        }
      ]
    },
    {
      "cell_type": "code",
      "metadata": {
        "id": "BQ8f0iziuVHg",
        "colab_type": "code",
        "colab": {
          "base_uri": "https://localhost:8080/",
          "height": 34
        },
        "outputId": "3e72f4f0-2711-4b58-a59c-45caf5be72b6"
      },
      "source": [
        "print(1.08 + 40.32 + 38.17)"
      ],
      "execution_count": 52,
      "outputs": [
        {
          "output_type": "stream",
          "text": [
            "79.57\n"
          ],
          "name": "stdout"
        }
      ]
    },
    {
      "cell_type": "code",
      "metadata": {
        "id": "TVix1vCDDHT6",
        "colab_type": "code",
        "colab": {}
      },
      "source": [
        ""
      ],
      "execution_count": null,
      "outputs": []
    }
  ]
}